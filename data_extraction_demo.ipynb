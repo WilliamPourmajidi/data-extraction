{
 "cells": [
  {
   "cell_type": "markdown",
   "id": "90369d75",
   "metadata": {},
   "source": [
    "# Data Extraction Demo\n",
    "This notebook demonstrates the core workflow for loading and extracting data into a Pandas DataFrame, following project conventions.\n",
    "- All data extraction functions return a DataFrame.\n",
    "- Use function-based modules for each data source.\n",
    "- Document new workflows and keep code modular."
   ]
  },
  {
   "cell_type": "markdown",
   "id": "e4268048",
   "metadata": {},
   "source": [
    "## Extracting Data from CSV Files\n",
    "Use the function below to load CSV data into a DataFrame."
   ]
  },
  {
   "cell_type": "code",
   "execution_count": null,
   "id": "7dcdc186",
   "metadata": {
    "vscode": {
     "languageId": "code"
    }
   },
   "outputs": [],
   "source": [
    "import pandas as pd\n",
    "\n",
    "def load_csv(path):\n",
    "    df = pd.read_csv(path)\n",
    "    # ...additional cleaning/transformation...\n",
    "    return df"
   ]
  },
  {
   "cell_type": "code",
   "execution_count": null,
   "id": "15442b56",
   "metadata": {
    "vscode": {
     "languageId": "code"
    }
   },
   "outputs": [],
   "source": [
    "csv_path = 'sample_data.csv'\n",
    "df_csv = load_csv(csv_path)\n",
    "df_csv.head()"
   ]
  },
  {
   "cell_type": "markdown",
   "id": "4d99f7e0",
   "metadata": {},
   "source": [
    "## Extracting Data from Excel Files\n",
    "Use the function below to load Excel data into a DataFrame."
   ]
  },
  {
   "cell_type": "code",
   "execution_count": null,
   "id": "604bb82c",
   "metadata": {
    "vscode": {
     "languageId": "code"
    }
   },
   "outputs": [],
   "source": [
    "def load_excel(path, sheet_name=0):\n",
    "    df = pd.read_excel(path, sheet_name=sheet_name)\n",
    "    # ...additional cleaning/transformation...\n",
    "    return df"
   ]
  },
  {
   "cell_type": "code",
   "execution_count": null,
   "id": "f4acdff8",
   "metadata": {
    "vscode": {
     "languageId": "code"
    }
   },
   "outputs": [],
   "source": [
    "excel_path = 'sample_data.xlsx'\n",
    "df_excel = load_excel(excel_path)\n",
    "df_excel.head()"
   ]
  },
  {
   "cell_type": "markdown",
   "id": "47772ce1",
   "metadata": {},
   "source": [
    "## Extracting Data from APIs\n",
    "Use the function below to load data from a REST API into a DataFrame."
   ]
  },
  {
   "cell_type": "code",
   "execution_count": null,
   "id": "6f5d1b48",
   "metadata": {
    "vscode": {
     "languageId": "code"
    }
   },
   "outputs": [],
   "source": [
    "import requests\n",
    "\n",
    "def load_api(url):\n",
    "    response = requests.get(url)\n",
    "    data = response.json()\n",
    "    df = pd.DataFrame(data)\n",
    "    # ...additional cleaning/transformation...\n",
    "    return df"
   ]
  },
  {
   "cell_type": "code",
   "execution_count": null,
   "id": "fb0e2ffc",
   "metadata": {
    "vscode": {
     "languageId": "code"
    }
   },
   "outputs": [],
   "source": [
    "api_url = 'https://api.example.com/data'\n",
    "df_api = load_api(api_url)\n",
    "df_api.head()"
   ]
  },
  {
   "cell_type": "markdown",
   "id": "a54f1dfb",
   "metadata": {},
   "source": [
    "## Extracting Data from JSON Files\n",
    "Use the function below to load data from a local JSON file into a DataFrame."
   ]
  },
  {
   "cell_type": "code",
   "execution_count": null,
   "id": "0dca01b6",
   "metadata": {
    "vscode": {
     "languageId": "code"
    }
   },
   "outputs": [],
   "source": [
    "import json\n",
    "\n",
    "def load_json(path):\n",
    "    with open(path, 'r') as f:\n",
    "        data = json.load(f)\n",
    "    df = pd.DataFrame(data)\n",
    "    # ...additional cleaning/transformation...\n",
    "    return df"
   ]
  },
  {
   "cell_type": "code",
   "execution_count": null,
   "id": "60dddf5a",
   "metadata": {
    "vscode": {
     "languageId": "code"
    }
   },
   "outputs": [],
   "source": [
    "json_path = 'sample_data.json'\n",
    "df_json = load_json(json_path)\n",
    "df_json.head()"
   ]
  },
  {
   "cell_type": "markdown",
   "id": "e60d0a17",
   "metadata": {},
   "source": [
    "## Extracting Data from MongoDB Atlas (NoSQL)\n",
    "Use the function below to load data from a MongoDB Atlas collection into a DataFrame."
   ]
  },
  {
   "cell_type": "code",
   "execution_count": null,
   "id": "da3340de",
   "metadata": {
    "vscode": {
     "languageId": "code"
    }
   },
   "outputs": [],
   "source": [
    "from pymongo import MongoClient\n",
    "\n",
    "def load_mongodb(uri, db_name, collection_name):\n",
    "    client = MongoClient(uri)\n",
    "    db = client[db_name]\n",
    "    collection = db[collection_name]\n",
    "    data = list(collection.find())\n",
    "    df = pd.DataFrame(data)\n",
    "    # ...additional cleaning/transformation...\n",
    "    return df"
   ]
  },
  {
   "cell_type": "code",
   "execution_count": null,
   "id": "1bcd87c3",
   "metadata": {
    "vscode": {
     "languageId": "code"
    }
   },
   "outputs": [],
   "source": [
    "mongodb_uri = 'mongodb+srv://<username>:<password>@cluster0.mongodb.net/'\n",
    "db_name = 'sample_db'\n",
    "collection_name = 'sample_collection'\n",
    "df_mongo = load_mongodb(mongodb_uri, db_name, collection_name)\n",
    "df_mongo.head()"
   ]
  },
  {
   "cell_type": "markdown",
   "id": "d43b7bfc",
   "metadata": {},
   "source": [
    "## Extracting Data from MySQL (SQL-based)\n",
    "Use the function below to load data from a MySQL database into a DataFrame."
   ]
  },
  {
   "cell_type": "code",
   "execution_count": null,
   "id": "3ac08e59",
   "metadata": {
    "vscode": {
     "languageId": "code"
    }
   },
   "outputs": [],
   "source": [
    "import mysql.connector\n",
    "\n",
    "def load_mysql(host, user, password, database, query):\n",
    "    conn = mysql.connector.connect(\n",
    "        host=host,\n",
    "        user=user,\n",
    "        password=password,\n",
    "        database=database\n",
    "    )\n",
    "    df = pd.read_sql(query, conn)\n",
    "    conn.close()\n",
    "    # ...additional cleaning/transformation...\n",
    "    return df"
   ]
  },
  {
   "cell_type": "code",
   "execution_count": null,
   "id": "05989cee",
   "metadata": {
    "vscode": {
     "languageId": "code"
    }
   },
   "outputs": [],
   "source": [
    "mysql_host = 'localhost'\n",
    "mysql_user = 'root'\n",
    "mysql_password = 'password'\n",
    "mysql_database = 'sample_db'\n",
    "mysql_query = 'SELECT * FROM sample_table'\n",
    "df_mysql = load_mysql(mysql_host, mysql_user, mysql_password, mysql_database, mysql_query)\n",
    "df_mysql.head()"
   ]
  },
  {
   "cell_type": "markdown",
   "id": "f31a99b5",
   "metadata": {},
   "source": [
    "## Extracting Data via Web Scraping\n",
    "Use the function below to scrape data from a website using BeautifulSoup."
   ]
  },
  {
   "cell_type": "code",
   "execution_count": null,
   "id": "96e0a078",
   "metadata": {
    "vscode": {
     "languageId": "code"
    }
   },
   "outputs": [],
   "source": [
    "import requests\n",
    "from bs4 import BeautifulSoup\n",
    "\n",
    "def scrape_shop(base_url):\n",
    "    response = requests.get(base_url)\n",
    "    soup = BeautifulSoup(response.text, 'html.parser')\n",
    "    products = []\n",
    "    for product in soup.select('.product'):  # Example selector\n",
    "        name = product.select_one('.woocommerce-loop-product__title').text\n",
    "        price = product.select_one('.price').text\n",
    "        products.append({'name': name, 'price': price})\n",
    "    df = pd.DataFrame(products)\n",
    "    # ...additional cleaning/transformation...\n",
    "    return df"
   ]
  },
  {
   "cell_type": "code",
   "execution_count": null,
   "id": "06405295",
   "metadata": {
    "vscode": {
     "languageId": "code"
    }
   },
   "outputs": [],
   "source": [
    "base_url = 'https://scrapeme.live/shop/'\n",
    "df_shop = scrape_shop(base_url)\n",
    "df_shop.head()"
   ]
  }
 ],
 "metadata": {
  "language_info": {
   "name": "python"
  }
 },
 "nbformat": 4,
 "nbformat_minor": 5
}
